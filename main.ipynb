{
 "cells": [
  {
   "cell_type": "code",
   "execution_count": 1,
   "metadata": {},
   "outputs": [],
   "source": [
    "import numpy as np\n",
    "import pandas as pd\n",
    "%matplotlib inline\n",
    "import matplotlib.pyplot as plt\n",
    "import seaborn as sns"
   ]
  },
  {
   "cell_type": "code",
   "execution_count": 7,
   "metadata": {},
   "outputs": [],
   "source": [
    "pd.set_option(\"display.float_format\", lambda x: \"%.2f\" % x)"
   ]
  },
  {
   "cell_type": "code",
   "execution_count": 8,
   "metadata": {},
   "outputs": [
    {
     "data": {
      "text/html": [
       "<div>\n",
       "<style scoped>\n",
       "    .dataframe tbody tr th:only-of-type {\n",
       "        vertical-align: middle;\n",
       "    }\n",
       "\n",
       "    .dataframe tbody tr th {\n",
       "        vertical-align: top;\n",
       "    }\n",
       "\n",
       "    .dataframe thead th {\n",
       "        text-align: right;\n",
       "    }\n",
       "</style>\n",
       "<table border=\"1\" class=\"dataframe\">\n",
       "  <thead>\n",
       "    <tr style=\"text-align: right;\">\n",
       "      <th></th>\n",
       "      <th>title</th>\n",
       "      <th>type</th>\n",
       "      <th>address</th>\n",
       "      <th>price</th>\n",
       "      <th>built_area</th>\n",
       "      <th>private_area</th>\n",
       "      <th>status</th>\n",
       "      <th>bedrooms</th>\n",
       "      <th>bathrooms</th>\n",
       "      <th>parking_slots</th>\n",
       "      <th>finishes</th>\n",
       "      <th>stratum</th>\n",
       "      <th>developers</th>\n",
       "      <th>country</th>\n",
       "      <th>city</th>\n",
       "      <th>zone</th>\n",
       "    </tr>\n",
       "  </thead>\n",
       "  <tbody>\n",
       "    <tr>\n",
       "      <th>0</th>\n",
       "      <td>urbana 30</td>\n",
       "      <td>apartamento en venta en bogotá</td>\n",
       "      <td>carrera 30 no. 13a - 33</td>\n",
       "      <td>193000000</td>\n",
       "      <td>35.00</td>\n",
       "      <td>30.00</td>\n",
       "      <td>sobre planos</td>\n",
       "      <td>1</td>\n",
       "      <td>1</td>\n",
       "      <td>NaN</td>\n",
       "      <td>sin acabados</td>\n",
       "      <td>4</td>\n",
       "      <td>constructora bolívar</td>\n",
       "      <td>colombia</td>\n",
       "      <td>bogota</td>\n",
       "      <td>centro</td>\n",
       "    </tr>\n",
       "    <tr>\n",
       "      <th>1</th>\n",
       "      <td>bauhaus 4 - 23</td>\n",
       "      <td>apartaestudio en venta en bogotá</td>\n",
       "      <td>calle 24 no. 4a - 15</td>\n",
       "      <td>169500000</td>\n",
       "      <td>25.00</td>\n",
       "      <td>22.37</td>\n",
       "      <td>sobre planos</td>\n",
       "      <td>1</td>\n",
       "      <td>1</td>\n",
       "      <td>comunal</td>\n",
       "      <td>con acabados</td>\n",
       "      <td>3</td>\n",
       "      <td>buenvivir</td>\n",
       "      <td>colombia</td>\n",
       "      <td>bogota</td>\n",
       "      <td>centro</td>\n",
       "    </tr>\n",
       "    <tr>\n",
       "      <th>2</th>\n",
       "      <td>bauhaus 4 - 23</td>\n",
       "      <td>apartamento en venta en bogotá</td>\n",
       "      <td>calle 24 no. 4a - 15</td>\n",
       "      <td>169500000</td>\n",
       "      <td>25.00</td>\n",
       "      <td>22.37</td>\n",
       "      <td>sobre planos</td>\n",
       "      <td>1</td>\n",
       "      <td>1</td>\n",
       "      <td>comunal</td>\n",
       "      <td>con acabados</td>\n",
       "      <td>3</td>\n",
       "      <td>buenvivir</td>\n",
       "      <td>colombia</td>\n",
       "      <td>bogota</td>\n",
       "      <td>centro</td>\n",
       "    </tr>\n",
       "    <tr>\n",
       "      <th>3</th>\n",
       "      <td>torre farfala</td>\n",
       "      <td>apartaestudio en venta en bogotá</td>\n",
       "      <td>calle 10 no. 30 -73</td>\n",
       "      <td>202587000</td>\n",
       "      <td>40.20</td>\n",
       "      <td>35.70</td>\n",
       "      <td>sobre planos</td>\n",
       "      <td>1</td>\n",
       "      <td>1</td>\n",
       "      <td>comunal</td>\n",
       "      <td>con acabados</td>\n",
       "      <td>3</td>\n",
       "      <td>kuman s.a.s</td>\n",
       "      <td>colombia</td>\n",
       "      <td>bogota</td>\n",
       "      <td>centro</td>\n",
       "    </tr>\n",
       "    <tr>\n",
       "      <th>4</th>\n",
       "      <td>aruma</td>\n",
       "      <td>apartaestudio en venta en bogotá</td>\n",
       "      <td>calle 6 no. 18 - 04</td>\n",
       "      <td>140000000</td>\n",
       "      <td>28.00</td>\n",
       "      <td>24.00</td>\n",
       "      <td>sobre planos</td>\n",
       "      <td>1</td>\n",
       "      <td>1</td>\n",
       "      <td>comunal</td>\n",
       "      <td>con semiacabados</td>\n",
       "      <td>3</td>\n",
       "      <td>alcabama</td>\n",
       "      <td>colombia</td>\n",
       "      <td>bogota</td>\n",
       "      <td>centro</td>\n",
       "    </tr>\n",
       "  </tbody>\n",
       "</table>\n",
       "</div>"
      ],
      "text/plain": [
       "            title                              type                  address  \\\n",
       "0       urbana 30    apartamento en venta en bogotá  carrera 30 no. 13a - 33   \n",
       "1  bauhaus 4 - 23  apartaestudio en venta en bogotá     calle 24 no. 4a - 15   \n",
       "2  bauhaus 4 - 23    apartamento en venta en bogotá     calle 24 no. 4a - 15   \n",
       "3   torre farfala  apartaestudio en venta en bogotá      calle 10 no. 30 -73   \n",
       "4           aruma  apartaestudio en venta en bogotá      calle 6 no. 18 - 04   \n",
       "\n",
       "       price  built_area  private_area        status  bedrooms  bathrooms  \\\n",
       "0  193000000       35.00         30.00  sobre planos         1          1   \n",
       "1  169500000       25.00         22.37  sobre planos         1          1   \n",
       "2  169500000       25.00         22.37  sobre planos         1          1   \n",
       "3  202587000       40.20         35.70  sobre planos         1          1   \n",
       "4  140000000       28.00         24.00  sobre planos         1          1   \n",
       "\n",
       "  parking_slots          finishes stratum            developers   country  \\\n",
       "0           NaN      sin acabados       4  constructora bolívar  colombia   \n",
       "1       comunal      con acabados       3             buenvivir  colombia   \n",
       "2       comunal      con acabados       3             buenvivir  colombia   \n",
       "3       comunal      con acabados       3           kuman s.a.s  colombia   \n",
       "4       comunal  con semiacabados       3              alcabama  colombia   \n",
       "\n",
       "     city    zone  \n",
       "0  bogota  centro  \n",
       "1  bogota  centro  \n",
       "2  bogota  centro  \n",
       "3  bogota  centro  \n",
       "4  bogota  centro  "
      ]
     },
     "execution_count": 8,
     "metadata": {},
     "output_type": "execute_result"
    }
   ],
   "source": [
    "projects = pd.read_csv(\"projects.csv\").drop(\"Unnamed: 0\", axis=1)\n",
    "projects.head()"
   ]
  },
  {
   "cell_type": "markdown",
   "metadata": {},
   "source": [
    "# 1. Tipos de datos."
   ]
  },
  {
   "cell_type": "code",
   "execution_count": 11,
   "metadata": {},
   "outputs": [
    {
     "name": "stdout",
     "output_type": "stream",
     "text": [
      "<class 'pandas.core.frame.DataFrame'>\n",
      "RangeIndex: 616 entries, 0 to 615\n",
      "Data columns (total 16 columns):\n",
      " #   Column         Non-Null Count  Dtype  \n",
      "---  ------         --------------  -----  \n",
      " 0   title          616 non-null    object \n",
      " 1   type           616 non-null    object \n",
      " 2   address        616 non-null    object \n",
      " 3   price          616 non-null    int64  \n",
      " 4   built_area     616 non-null    float64\n",
      " 5   private_area   608 non-null    float64\n",
      " 6   status         616 non-null    object \n",
      " 7   bedrooms       616 non-null    int64  \n",
      " 8   bathrooms      616 non-null    int64  \n",
      " 9   parking_slots  470 non-null    object \n",
      " 10  finishes       616 non-null    object \n",
      " 11  stratum        616 non-null    object \n",
      " 12  developers     616 non-null    object \n",
      " 13  country        616 non-null    object \n",
      " 14  city           616 non-null    object \n",
      " 15  zone           616 non-null    object \n",
      "dtypes: float64(2), int64(3), object(11)\n",
      "memory usage: 77.1+ KB\n"
     ]
    }
   ],
   "source": [
    "projects.info()"
   ]
  },
  {
   "cell_type": "markdown",
   "metadata": {},
   "source": [
    "Encontramos que **parking_slots** es la única columna con campos nulos.\n",
    "\n",
    "Analicemos los valores de la columna **parking_slots**."
   ]
  },
  {
   "cell_type": "code",
   "execution_count": 13,
   "metadata": {},
   "outputs": [
    {
     "data": {
      "text/plain": [
       "array([nan, 'comunal', '1', '4', '3', '2'], dtype=object)"
      ]
     },
     "execution_count": 13,
     "metadata": {},
     "output_type": "execute_result"
    }
   ],
   "source": [
    "projects[\"parking_slots\"].unique()"
   ]
  },
  {
   "cell_type": "markdown",
   "metadata": {},
   "source": [
    "La columna **parking_slots** está compuesta predominantemente por datos númericos.\n",
    "\n",
    "\n",
    "Interpretamos el valor **comunal** como propiedades que no tienen puesto de estacionamiento propio.\n",
    "\n",
    "\n",
    "Reemplacemos el valor **nan** y **comunal** por el número 0 y cambiemos el tipo de dato de la columna."
   ]
  },
  {
   "cell_type": "code",
   "execution_count": 32,
   "metadata": {},
   "outputs": [
    {
     "name": "stderr",
     "output_type": "stream",
     "text": [
      "C:\\Users\\Diego Estrada\\AppData\\Local\\Temp\\ipykernel_3588\\3898128278.py:1: SettingWithCopyWarning: \n",
      "A value is trying to be set on a copy of a slice from a DataFrame\n",
      "\n",
      "See the caveats in the documentation: https://pandas.pydata.org/pandas-docs/stable/user_guide/indexing.html#returning-a-view-versus-a-copy\n",
      "  projects[\"parking_slots\"][(projects[\"parking_slots\"] == \"comunal\")] = 0\n"
     ]
    }
   ],
   "source": [
    "projects[\"parking_slots\"][(projects[\"parking_slots\"] == \"comunal\")] = 0\n",
    "\n"
   ]
  },
  {
   "cell_type": "code",
   "execution_count": null,
   "metadata": {},
   "outputs": [],
   "source": []
  }
 ],
 "metadata": {
  "interpreter": {
   "hash": "41e248ee67a3888c77056bbc885e67d04e1ba67230dbef250c0ead0455c4cae1"
  },
  "kernelspec": {
   "display_name": "Python 3.9.6 ('real_estate_analysis-QkqfSqjg')",
   "language": "python",
   "name": "python3"
  },
  "language_info": {
   "codemirror_mode": {
    "name": "ipython",
    "version": 3
   },
   "file_extension": ".py",
   "mimetype": "text/x-python",
   "name": "python",
   "nbconvert_exporter": "python",
   "pygments_lexer": "ipython3",
   "version": "3.9.6"
  },
  "orig_nbformat": 4
 },
 "nbformat": 4,
 "nbformat_minor": 2
}
