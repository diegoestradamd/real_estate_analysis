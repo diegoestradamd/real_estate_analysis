{
 "cells": [
  {
   "cell_type": "code",
   "execution_count": 2,
   "metadata": {},
   "outputs": [],
   "source": [
    "import numpy as np\n",
    "import pandas as pd\n",
    "%matplotlib inline\n",
    "import matplotlib.pyplot as plt\n",
    "import seaborn as sns"
   ]
  },
  {
   "cell_type": "code",
   "execution_count": 3,
   "metadata": {},
   "outputs": [],
   "source": [
    "pd.set_option(\"display.float_format\", lambda x: \"%.2f\" % x)"
   ]
  },
  {
   "cell_type": "code",
   "execution_count": 4,
   "metadata": {},
   "outputs": [],
   "source": [
    "sns.set_palette(\"pastel\")"
   ]
  },
  {
   "cell_type": "code",
   "execution_count": 5,
   "metadata": {},
   "outputs": [
    {
     "data": {
      "text/html": [
       "<div>\n",
       "<style scoped>\n",
       "    .dataframe tbody tr th:only-of-type {\n",
       "        vertical-align: middle;\n",
       "    }\n",
       "\n",
       "    .dataframe tbody tr th {\n",
       "        vertical-align: top;\n",
       "    }\n",
       "\n",
       "    .dataframe thead th {\n",
       "        text-align: right;\n",
       "    }\n",
       "</style>\n",
       "<table border=\"1\" class=\"dataframe\">\n",
       "  <thead>\n",
       "    <tr style=\"text-align: right;\">\n",
       "      <th></th>\n",
       "      <th>title</th>\n",
       "      <th>type</th>\n",
       "      <th>address</th>\n",
       "      <th>price</th>\n",
       "      <th>built_area</th>\n",
       "      <th>private_area</th>\n",
       "      <th>status</th>\n",
       "      <th>bedrooms</th>\n",
       "      <th>bathrooms</th>\n",
       "      <th>parking_slots</th>\n",
       "      <th>finishes</th>\n",
       "      <th>stratum</th>\n",
       "      <th>developers</th>\n",
       "      <th>country</th>\n",
       "      <th>city</th>\n",
       "      <th>zone</th>\n",
       "    </tr>\n",
       "  </thead>\n",
       "  <tbody>\n",
       "    <tr>\n",
       "      <th>0</th>\n",
       "      <td>urbana 30</td>\n",
       "      <td>apartamento en venta en bogotá</td>\n",
       "      <td>carrera 30 no. 13a - 33</td>\n",
       "      <td>193000000</td>\n",
       "      <td>35.00</td>\n",
       "      <td>30.00</td>\n",
       "      <td>sobre planos</td>\n",
       "      <td>1</td>\n",
       "      <td>1</td>\n",
       "      <td>NaN</td>\n",
       "      <td>sin acabados</td>\n",
       "      <td>4</td>\n",
       "      <td>constructora bolívar</td>\n",
       "      <td>colombia</td>\n",
       "      <td>bogota</td>\n",
       "      <td>centro</td>\n",
       "    </tr>\n",
       "    <tr>\n",
       "      <th>1</th>\n",
       "      <td>bauhaus 4 - 23</td>\n",
       "      <td>apartaestudio en venta en bogotá</td>\n",
       "      <td>calle 24 no. 4a - 15</td>\n",
       "      <td>169500000</td>\n",
       "      <td>25.00</td>\n",
       "      <td>22.37</td>\n",
       "      <td>sobre planos</td>\n",
       "      <td>1</td>\n",
       "      <td>1</td>\n",
       "      <td>comunal</td>\n",
       "      <td>con acabados</td>\n",
       "      <td>3</td>\n",
       "      <td>buenvivir</td>\n",
       "      <td>colombia</td>\n",
       "      <td>bogota</td>\n",
       "      <td>centro</td>\n",
       "    </tr>\n",
       "    <tr>\n",
       "      <th>2</th>\n",
       "      <td>bauhaus 4 - 23</td>\n",
       "      <td>apartamento en venta en bogotá</td>\n",
       "      <td>calle 24 no. 4a - 15</td>\n",
       "      <td>169500000</td>\n",
       "      <td>25.00</td>\n",
       "      <td>22.37</td>\n",
       "      <td>sobre planos</td>\n",
       "      <td>1</td>\n",
       "      <td>1</td>\n",
       "      <td>comunal</td>\n",
       "      <td>con acabados</td>\n",
       "      <td>3</td>\n",
       "      <td>buenvivir</td>\n",
       "      <td>colombia</td>\n",
       "      <td>bogota</td>\n",
       "      <td>centro</td>\n",
       "    </tr>\n",
       "    <tr>\n",
       "      <th>3</th>\n",
       "      <td>torre farfala</td>\n",
       "      <td>apartaestudio en venta en bogotá</td>\n",
       "      <td>calle 10 no. 30 -73</td>\n",
       "      <td>202587000</td>\n",
       "      <td>40.20</td>\n",
       "      <td>35.70</td>\n",
       "      <td>sobre planos</td>\n",
       "      <td>1</td>\n",
       "      <td>1</td>\n",
       "      <td>comunal</td>\n",
       "      <td>con acabados</td>\n",
       "      <td>3</td>\n",
       "      <td>kuman s.a.s</td>\n",
       "      <td>colombia</td>\n",
       "      <td>bogota</td>\n",
       "      <td>centro</td>\n",
       "    </tr>\n",
       "    <tr>\n",
       "      <th>4</th>\n",
       "      <td>aruma</td>\n",
       "      <td>apartaestudio en venta en bogotá</td>\n",
       "      <td>calle 6 no. 18 - 04</td>\n",
       "      <td>140000000</td>\n",
       "      <td>28.00</td>\n",
       "      <td>24.00</td>\n",
       "      <td>sobre planos</td>\n",
       "      <td>1</td>\n",
       "      <td>1</td>\n",
       "      <td>comunal</td>\n",
       "      <td>con semiacabados</td>\n",
       "      <td>3</td>\n",
       "      <td>alcabama</td>\n",
       "      <td>colombia</td>\n",
       "      <td>bogota</td>\n",
       "      <td>centro</td>\n",
       "    </tr>\n",
       "  </tbody>\n",
       "</table>\n",
       "</div>"
      ],
      "text/plain": [
       "            title                              type                  address  \\\n",
       "0       urbana 30    apartamento en venta en bogotá  carrera 30 no. 13a - 33   \n",
       "1  bauhaus 4 - 23  apartaestudio en venta en bogotá     calle 24 no. 4a - 15   \n",
       "2  bauhaus 4 - 23    apartamento en venta en bogotá     calle 24 no. 4a - 15   \n",
       "3   torre farfala  apartaestudio en venta en bogotá      calle 10 no. 30 -73   \n",
       "4           aruma  apartaestudio en venta en bogotá      calle 6 no. 18 - 04   \n",
       "\n",
       "       price  built_area  private_area        status  bedrooms  bathrooms  \\\n",
       "0  193000000       35.00         30.00  sobre planos         1          1   \n",
       "1  169500000       25.00         22.37  sobre planos         1          1   \n",
       "2  169500000       25.00         22.37  sobre planos         1          1   \n",
       "3  202587000       40.20         35.70  sobre planos         1          1   \n",
       "4  140000000       28.00         24.00  sobre planos         1          1   \n",
       "\n",
       "  parking_slots          finishes stratum            developers   country  \\\n",
       "0           NaN      sin acabados       4  constructora bolívar  colombia   \n",
       "1       comunal      con acabados       3             buenvivir  colombia   \n",
       "2       comunal      con acabados       3             buenvivir  colombia   \n",
       "3       comunal      con acabados       3           kuman s.a.s  colombia   \n",
       "4       comunal  con semiacabados       3              alcabama  colombia   \n",
       "\n",
       "     city    zone  \n",
       "0  bogota  centro  \n",
       "1  bogota  centro  \n",
       "2  bogota  centro  \n",
       "3  bogota  centro  \n",
       "4  bogota  centro  "
      ]
     },
     "execution_count": 5,
     "metadata": {},
     "output_type": "execute_result"
    }
   ],
   "source": [
    "projects = pd.read_csv(\"projects.csv\").drop(\"Unnamed: 0\", axis=1)\n",
    "projects.head()"
   ]
  },
  {
   "cell_type": "markdown",
   "metadata": {},
   "source": [
    "# 1. Tipos de datos."
   ]
  },
  {
   "cell_type": "code",
   "execution_count": 6,
   "metadata": {},
   "outputs": [
    {
     "name": "stdout",
     "output_type": "stream",
     "text": [
      "<class 'pandas.core.frame.DataFrame'>\n",
      "RangeIndex: 616 entries, 0 to 615\n",
      "Data columns (total 16 columns):\n",
      " #   Column         Non-Null Count  Dtype  \n",
      "---  ------         --------------  -----  \n",
      " 0   title          616 non-null    object \n",
      " 1   type           616 non-null    object \n",
      " 2   address        616 non-null    object \n",
      " 3   price          616 non-null    int64  \n",
      " 4   built_area     616 non-null    float64\n",
      " 5   private_area   608 non-null    float64\n",
      " 6   status         616 non-null    object \n",
      " 7   bedrooms       616 non-null    int64  \n",
      " 8   bathrooms      616 non-null    int64  \n",
      " 9   parking_slots  470 non-null    object \n",
      " 10  finishes       616 non-null    object \n",
      " 11  stratum        616 non-null    object \n",
      " 12  developers     616 non-null    object \n",
      " 13  country        616 non-null    object \n",
      " 14  city           616 non-null    object \n",
      " 15  zone           616 non-null    object \n",
      "dtypes: float64(2), int64(3), object(11)\n",
      "memory usage: 77.1+ KB\n"
     ]
    }
   ],
   "source": [
    "projects.info()"
   ]
  },
  {
   "cell_type": "markdown",
   "metadata": {},
   "source": [
    "Encontramos que **parking_slots** es la única columna con campos nulos.\n",
    "\n",
    "Analicemos los valores de la columna **parking_slots**."
   ]
  },
  {
   "cell_type": "code",
   "execution_count": 7,
   "metadata": {},
   "outputs": [
    {
     "data": {
      "text/plain": [
       "array([nan, 'comunal', '1', '4', '3', '2'], dtype=object)"
      ]
     },
     "execution_count": 7,
     "metadata": {},
     "output_type": "execute_result"
    }
   ],
   "source": [
    "projects[\"parking_slots\"].unique()"
   ]
  },
  {
   "cell_type": "markdown",
   "metadata": {},
   "source": [
    "La columna **parking_slots** está compuesta predominantemente por datos númericos.\n",
    "\n",
    "\n",
    "Interpretamos el valor **comunal** como propiedades que no tienen puesto de estacionamiento propio.\n",
    "\n",
    "\n",
    "Reemplacemos el valor **nan** y **comunal** por el número 0 y cambiemos el tipo de dato de la columna."
   ]
  },
  {
   "cell_type": "code",
   "execution_count": 8,
   "metadata": {},
   "outputs": [
    {
     "name": "stderr",
     "output_type": "stream",
     "text": [
      "C:\\Users\\Diego Estrada\\AppData\\Local\\Temp\\ipykernel_8416\\4028867744.py:2: SettingWithCopyWarning: \n",
      "A value is trying to be set on a copy of a slice from a DataFrame\n",
      "\n",
      "See the caveats in the documentation: https://pandas.pydata.org/pandas-docs/stable/user_guide/indexing.html#returning-a-view-versus-a-copy\n",
      "  projects[\"parking_slots\"][condition] = \"0\"\n"
     ]
    }
   ],
   "source": [
    "condition = (projects[\"parking_slots\"] == \"comunal\") | (projects[\"parking_slots\"].isna())\n",
    "projects[\"parking_slots\"][condition] = \"0\"\n",
    "\n"
   ]
  },
  {
   "cell_type": "code",
   "execution_count": 9,
   "metadata": {},
   "outputs": [
    {
     "data": {
      "text/plain": [
       "array(['0', '1', '4', '3', '2'], dtype=object)"
      ]
     },
     "execution_count": 9,
     "metadata": {},
     "output_type": "execute_result"
    }
   ],
   "source": [
    "projects[\"parking_slots\"].unique()"
   ]
  },
  {
   "cell_type": "markdown",
   "metadata": {},
   "source": [
    "La columna **parking_slots** ya no contiene valores **Nan** o **comunal**.\n",
    "\n",
    "\n",
    "Procedemos a cambiar el tipo de datos de **parking_slots** de *object* a *int*."
   ]
  },
  {
   "cell_type": "code",
   "execution_count": 10,
   "metadata": {},
   "outputs": [
    {
     "data": {
      "text/plain": [
       "dtype('int32')"
      ]
     },
     "execution_count": 10,
     "metadata": {},
     "output_type": "execute_result"
    }
   ],
   "source": [
    "projects[\"parking_slots\"] = projects[\"parking_slots\"].astype(int)\n",
    "projects[\"parking_slots\"].dtype"
   ]
  },
  {
   "cell_type": "markdown",
   "metadata": {},
   "source": [
    "La columna **type** podemos simplificarla a *apartamento*, *apartaestudio* y *casa*.\n",
    "\n",
    "\n",
    "También debemos eliminar las observaciones de *apartamento en venta en zipaquirá* ya\n",
    "que estamos trabajando con un dataset exclusivo de propiedades nuevas en Bogotá."
   ]
  },
  {
   "cell_type": "code",
   "execution_count": 11,
   "metadata": {},
   "outputs": [
    {
     "data": {
      "text/plain": [
       "array(['apartamento en venta en bogotá',\n",
       "       'apartaestudio en venta en bogotá', 'casa en venta en bogotá',\n",
       "       'apartamento en venta en zipaquirá'], dtype=object)"
      ]
     },
     "execution_count": 11,
     "metadata": {},
     "output_type": "execute_result"
    }
   ],
   "source": [
    "projects[\"type\"].unique()"
   ]
  },
  {
   "cell_type": "code",
   "execution_count": 12,
   "metadata": {},
   "outputs": [
    {
     "name": "stderr",
     "output_type": "stream",
     "text": [
      "C:\\Users\\Diego Estrada\\AppData\\Local\\Temp\\ipykernel_8416\\3546394645.py:1: SettingWithCopyWarning: \n",
      "A value is trying to be set on a copy of a slice from a DataFrame\n",
      "\n",
      "See the caveats in the documentation: https://pandas.pydata.org/pandas-docs/stable/user_guide/indexing.html#returning-a-view-versus-a-copy\n",
      "  projects[\"type\"][projects[\"type\"] == \"apartamento en venta en bogotá\"] = \"apartamento\"\n",
      "C:\\Users\\Diego Estrada\\AppData\\Local\\Temp\\ipykernel_8416\\3546394645.py:2: SettingWithCopyWarning: \n",
      "A value is trying to be set on a copy of a slice from a DataFrame\n",
      "\n",
      "See the caveats in the documentation: https://pandas.pydata.org/pandas-docs/stable/user_guide/indexing.html#returning-a-view-versus-a-copy\n",
      "  projects[\"type\"][projects[\"type\"] == \"apartaestudio en venta en bogotá\"] = \"apartaestudio\"\n",
      "C:\\Users\\Diego Estrada\\AppData\\Local\\Temp\\ipykernel_8416\\3546394645.py:3: SettingWithCopyWarning: \n",
      "A value is trying to be set on a copy of a slice from a DataFrame\n",
      "\n",
      "See the caveats in the documentation: https://pandas.pydata.org/pandas-docs/stable/user_guide/indexing.html#returning-a-view-versus-a-copy\n",
      "  projects[\"type\"][projects[\"type\"] == \"casa en venta en bogotá\"] = \"casa\"\n"
     ]
    }
   ],
   "source": [
    "projects[\"type\"][projects[\"type\"] == \"apartamento en venta en bogotá\"] = \"apartamento\"\n",
    "projects[\"type\"][projects[\"type\"] == \"apartaestudio en venta en bogotá\"] = \"apartaestudio\"\n",
    "projects[\"type\"][projects[\"type\"] == \"casa en venta en bogotá\"] = \"casa\""
   ]
  },
  {
   "cell_type": "code",
   "execution_count": 13,
   "metadata": {},
   "outputs": [],
   "source": [
    "wrong_element = projects[\"type\"][projects[\"type\"] == \"apartamento en venta en zipaquirá\"].index\n",
    "projects.drop(wrong_element, axis=\"index\", inplace=True)"
   ]
  },
  {
   "cell_type": "markdown",
   "metadata": {},
   "source": [
    "Todo parece estar bien con el resto de las columnas con valores categóricos."
   ]
  },
  {
   "cell_type": "code",
   "execution_count": 14,
   "metadata": {},
   "outputs": [
    {
     "data": {
      "text/plain": [
       "array(['sobre planos', 'en construcción', 'terminado'], dtype=object)"
      ]
     },
     "execution_count": 14,
     "metadata": {},
     "output_type": "execute_result"
    }
   ],
   "source": [
    "projects[\"status\"].unique()"
   ]
  },
  {
   "cell_type": "code",
   "execution_count": 15,
   "metadata": {},
   "outputs": [
    {
     "data": {
      "text/plain": [
       "array(['sin acabados', 'con acabados', 'con semiacabados', 'obra gris'],\n",
       "      dtype=object)"
      ]
     },
     "execution_count": 15,
     "metadata": {},
     "output_type": "execute_result"
    }
   ],
   "source": [
    "projects[\"finishes\"].unique()"
   ]
  },
  {
   "cell_type": "code",
   "execution_count": 16,
   "metadata": {},
   "outputs": [
    {
     "data": {
      "text/plain": [
       "array(['4', '3', '5', '6', 'por definir', '2', '1'], dtype=object)"
      ]
     },
     "execution_count": 16,
     "metadata": {},
     "output_type": "execute_result"
    }
   ],
   "source": [
    "projects[\"stratum\"] = projects[\"stratum\"].str.lower()\n",
    "projects[\"stratum\"].unique()"
   ]
  },
  {
   "cell_type": "code",
   "execution_count": 17,
   "metadata": {},
   "outputs": [
    {
     "data": {
      "text/plain": [
       "array(['constructora bolívar', 'buenvivir', 'kuman s.a.s', 'alcabama',\n",
       "       'icono urbano', 'constructora capital bogotá', 'akila',\n",
       "       'coninsa ramón h', 'actual inmobiliaria', 'amarilo',\n",
       "       'conaltura - vertikal', 'marval', 'apiros', 'ic constructora',\n",
       "       'cusezar', 'dyc proyectos', 'metrika construcciones s.a.s',\n",
       "       'compensar', 'ar construcciones', 'reserva del otoñal',\n",
       "       'constructora ospina asociados', 'umbral propiedad raíz',\n",
       "       'colombiana de edificaciones', 'residere sas', 'cumbrera s.a.s.',\n",
       "       'camarth construcciones',\n",
       "       'ambientti constructora inmobiliaria s.a', 'acierto inmobiliario',\n",
       "       'proksol', 'compacta sas', 'contein', 'vavilco',\n",
       "       'pco proyectos de construccion y obras civiles s.a.s.', 'prodesa',\n",
       "       'ingeurbe', 'ici inversiones y construcciones industrializadas',\n",
       "       'grupo accanto', 'conconcreto', 'londoño gómez s.a.',\n",
       "       'zitio construcciones s.a.s', 'incol s.a.s. / qyunza s.a.s',\n",
       "       'constructora las galias', 'deeb asociados sas',\n",
       "       'ingenal arquitectura & construcción',\n",
       "       'conaltura construcción y vivienda s.a.', 'master building',\n",
       "       'valor'], dtype=object)"
      ]
     },
     "execution_count": 17,
     "metadata": {},
     "output_type": "execute_result"
    }
   ],
   "source": [
    "projects[\"developers\"].unique()"
   ]
  },
  {
   "cell_type": "code",
   "execution_count": 18,
   "metadata": {},
   "outputs": [
    {
     "data": {
      "text/plain": [
       "array(['centro', 'norte', 'noroccidente', 'occidente', 'sur'],\n",
       "      dtype=object)"
      ]
     },
     "execution_count": 18,
     "metadata": {},
     "output_type": "execute_result"
    }
   ],
   "source": [
    "projects[\"zone\"].unique()"
   ]
  },
  {
   "cell_type": "markdown",
   "metadata": {},
   "source": [
    "# 2. Descripción del dataset."
   ]
  },
  {
   "cell_type": "code",
   "execution_count": 19,
   "metadata": {},
   "outputs": [
    {
     "data": {
      "text/html": [
       "<div>\n",
       "<style scoped>\n",
       "    .dataframe tbody tr th:only-of-type {\n",
       "        vertical-align: middle;\n",
       "    }\n",
       "\n",
       "    .dataframe tbody tr th {\n",
       "        vertical-align: top;\n",
       "    }\n",
       "\n",
       "    .dataframe thead th {\n",
       "        text-align: right;\n",
       "    }\n",
       "</style>\n",
       "<table border=\"1\" class=\"dataframe\">\n",
       "  <thead>\n",
       "    <tr style=\"text-align: right;\">\n",
       "      <th></th>\n",
       "      <th>price</th>\n",
       "      <th>built_area</th>\n",
       "      <th>private_area</th>\n",
       "      <th>bedrooms</th>\n",
       "      <th>bathrooms</th>\n",
       "      <th>parking_slots</th>\n",
       "    </tr>\n",
       "  </thead>\n",
       "  <tbody>\n",
       "    <tr>\n",
       "      <th>count</th>\n",
       "      <td>615.00</td>\n",
       "      <td>615.00</td>\n",
       "      <td>607.00</td>\n",
       "      <td>615.00</td>\n",
       "      <td>615.00</td>\n",
       "      <td>615.00</td>\n",
       "    </tr>\n",
       "    <tr>\n",
       "      <th>mean</th>\n",
       "      <td>461817409.10</td>\n",
       "      <td>65.00</td>\n",
       "      <td>57.91</td>\n",
       "      <td>2.02</td>\n",
       "      <td>1.86</td>\n",
       "      <td>0.65</td>\n",
       "    </tr>\n",
       "    <tr>\n",
       "      <th>std</th>\n",
       "      <td>432110609.20</td>\n",
       "      <td>40.51</td>\n",
       "      <td>37.61</td>\n",
       "      <td>0.88</td>\n",
       "      <td>0.90</td>\n",
       "      <td>0.84</td>\n",
       "    </tr>\n",
       "    <tr>\n",
       "      <th>min</th>\n",
       "      <td>75540000.00</td>\n",
       "      <td>18.25</td>\n",
       "      <td>16.43</td>\n",
       "      <td>1.00</td>\n",
       "      <td>1.00</td>\n",
       "      <td>0.00</td>\n",
       "    </tr>\n",
       "    <tr>\n",
       "      <th>25%</th>\n",
       "      <td>186589524.50</td>\n",
       "      <td>38.00</td>\n",
       "      <td>32.60</td>\n",
       "      <td>1.00</td>\n",
       "      <td>1.00</td>\n",
       "      <td>0.00</td>\n",
       "    </tr>\n",
       "    <tr>\n",
       "      <th>50%</th>\n",
       "      <td>350480000.00</td>\n",
       "      <td>55.25</td>\n",
       "      <td>48.49</td>\n",
       "      <td>2.00</td>\n",
       "      <td>2.00</td>\n",
       "      <td>0.00</td>\n",
       "    </tr>\n",
       "    <tr>\n",
       "      <th>75%</th>\n",
       "      <td>552869385.00</td>\n",
       "      <td>79.20</td>\n",
       "      <td>70.86</td>\n",
       "      <td>3.00</td>\n",
       "      <td>2.00</td>\n",
       "      <td>1.00</td>\n",
       "    </tr>\n",
       "    <tr>\n",
       "      <th>max</th>\n",
       "      <td>4007000000.00</td>\n",
       "      <td>363.27</td>\n",
       "      <td>332.43</td>\n",
       "      <td>4.00</td>\n",
       "      <td>5.00</td>\n",
       "      <td>4.00</td>\n",
       "    </tr>\n",
       "  </tbody>\n",
       "</table>\n",
       "</div>"
      ],
      "text/plain": [
       "              price  built_area  private_area  bedrooms  bathrooms  \\\n",
       "count        615.00      615.00        607.00    615.00     615.00   \n",
       "mean   461817409.10       65.00         57.91      2.02       1.86   \n",
       "std    432110609.20       40.51         37.61      0.88       0.90   \n",
       "min     75540000.00       18.25         16.43      1.00       1.00   \n",
       "25%    186589524.50       38.00         32.60      1.00       1.00   \n",
       "50%    350480000.00       55.25         48.49      2.00       2.00   \n",
       "75%    552869385.00       79.20         70.86      3.00       2.00   \n",
       "max   4007000000.00      363.27        332.43      4.00       5.00   \n",
       "\n",
       "       parking_slots  \n",
       "count         615.00  \n",
       "mean            0.65  \n",
       "std             0.84  \n",
       "min             0.00  \n",
       "25%             0.00  \n",
       "50%             0.00  \n",
       "75%             1.00  \n",
       "max             4.00  "
      ]
     },
     "execution_count": 19,
     "metadata": {},
     "output_type": "execute_result"
    }
   ],
   "source": [
    "projects.describe()"
   ]
  },
  {
   "cell_type": "markdown",
   "metadata": {},
   "source": [
    "### Precio\n",
    "\n",
    "Tomando en cuenta la columna **price** analicemos los valores max y min."
   ]
  },
  {
   "cell_type": "code",
   "execution_count": 20,
   "metadata": {},
   "outputs": [
    {
     "data": {
      "text/plain": [
       "title                   séptima avenida\n",
       "type                        apartamento\n",
       "address          carrera 7 no. 158 - 51\n",
       "price                        4007000000\n",
       "built_area                        66.90\n",
       "private_area                      60.10\n",
       "status                  en construcción\n",
       "bedrooms                              2\n",
       "bathrooms                             2\n",
       "parking_slots                         1\n",
       "finishes                   con acabados\n",
       "stratum                               4\n",
       "developers        umbral propiedad raíz\n",
       "country                        colombia\n",
       "city                             bogota\n",
       "zone                              norte\n",
       "Name: 118, dtype: object"
      ]
     },
     "execution_count": 20,
     "metadata": {},
     "output_type": "execute_result"
    }
   ],
   "source": [
    "index = projects[\"price\"].argmax()\n",
    "projects.iloc[index]"
   ]
  },
  {
   "cell_type": "markdown",
   "metadata": {},
   "source": [
    "Algo no está bien con dicha observación.\n",
    "\n",
    "\n",
    "Un apartamento de 60.10 m2 en un estrato medio no puede valer COP 4.007.000.000.\n",
    "\n",
    "\n",
    "Claramente es un error. Procedamos a eliminar dicha entrada."
   ]
  },
  {
   "cell_type": "code",
   "execution_count": 21,
   "metadata": {},
   "outputs": [],
   "source": [
    "index = projects[\"price\"].argmax()\n",
    "projects.drop(index, axis=\"index\", inplace=True)"
   ]
  },
  {
   "cell_type": "markdown",
   "metadata": {},
   "source": [
    "Analicemos el nuevo valor máximo."
   ]
  },
  {
   "cell_type": "code",
   "execution_count": 22,
   "metadata": {},
   "outputs": [
    {
     "data": {
      "text/plain": [
       "title              reserva de la sierra\n",
       "type                        apartamento\n",
       "address          carrera 7 no. 126 - 30\n",
       "price                        3997794000\n",
       "built_area                       363.27\n",
       "private_area                     332.43\n",
       "status                        terminado\n",
       "bedrooms                              3\n",
       "bathrooms                             5\n",
       "parking_slots                         2\n",
       "finishes                   con acabados\n",
       "stratum                               6\n",
       "developers                       marval\n",
       "country                        colombia\n",
       "city                             bogota\n",
       "zone                              norte\n",
       "Name: 181, dtype: object"
      ]
     },
     "execution_count": 22,
     "metadata": {},
     "output_type": "execute_result"
    }
   ],
   "source": [
    "index = projects[\"price\"].argmax()\n",
    "projects.iloc[index]"
   ]
  },
  {
   "cell_type": "markdown",
   "metadata": {},
   "source": [
    "El nuevo valor máximo en la columna **price** corresponde a un apartamento de 332 m2 ubicado en estrato alto.\n",
    "\n",
    "\n",
    "Podemos suponer que no hay ningún error con esta observación.\n",
    "\n",
    "\n",
    "Analicemos el valor mínimo de la columna **price**."
   ]
  },
  {
   "cell_type": "code",
   "execution_count": 23,
   "metadata": {},
   "outputs": [
    {
     "data": {
      "text/plain": [
       "title            la alegría iv de la marlene\n",
       "type                             apartamento\n",
       "address            diagonal 37a no. 17 - 163\n",
       "price                               75540000\n",
       "built_area                             29.93\n",
       "private_area                           26.30\n",
       "status                          sobre planos\n",
       "bedrooms                                   1\n",
       "bathrooms                                  1\n",
       "parking_slots                              0\n",
       "finishes                           obra gris\n",
       "stratum                          por definir\n",
       "developers                           cusezar\n",
       "country                             colombia\n",
       "city                                  bogota\n",
       "zone                                     sur\n",
       "Name: 598, dtype: object"
      ]
     },
     "execution_count": 23,
     "metadata": {},
     "output_type": "execute_result"
    }
   ],
   "source": [
    "index = projects[\"price\"].argmin()\n",
    "projects.iloc[index]"
   ]
  },
  {
   "cell_type": "markdown",
   "metadata": {},
   "source": [
    "El valor mínimo de la columna **price** corresponde a un apartamento de 26 m2 ubicado en estrato bajo.\n",
    "\n",
    "\n",
    "Podemos suponer que no hay ningún error con esta observación."
   ]
  },
  {
   "cell_type": "code",
   "execution_count": 24,
   "metadata": {},
   "outputs": [
    {
     "data": {
      "text/html": [
       "<div>\n",
       "<style scoped>\n",
       "    .dataframe tbody tr th:only-of-type {\n",
       "        vertical-align: middle;\n",
       "    }\n",
       "\n",
       "    .dataframe tbody tr th {\n",
       "        vertical-align: top;\n",
       "    }\n",
       "\n",
       "    .dataframe thead th {\n",
       "        text-align: right;\n",
       "    }\n",
       "</style>\n",
       "<table border=\"1\" class=\"dataframe\">\n",
       "  <thead>\n",
       "    <tr style=\"text-align: right;\">\n",
       "      <th></th>\n",
       "      <th>price</th>\n",
       "      <th>built_area</th>\n",
       "      <th>private_area</th>\n",
       "      <th>bedrooms</th>\n",
       "      <th>bathrooms</th>\n",
       "      <th>parking_slots</th>\n",
       "    </tr>\n",
       "  </thead>\n",
       "  <tbody>\n",
       "    <tr>\n",
       "      <th>count</th>\n",
       "      <td>614.00</td>\n",
       "      <td>614.00</td>\n",
       "      <td>606.00</td>\n",
       "      <td>614.00</td>\n",
       "      <td>614.00</td>\n",
       "      <td>614.00</td>\n",
       "    </tr>\n",
       "    <tr>\n",
       "      <th>mean</th>\n",
       "      <td>456043496.09</td>\n",
       "      <td>65.00</td>\n",
       "      <td>57.91</td>\n",
       "      <td>2.02</td>\n",
       "      <td>1.86</td>\n",
       "      <td>0.65</td>\n",
       "    </tr>\n",
       "    <tr>\n",
       "      <th>std</th>\n",
       "      <td>408029186.96</td>\n",
       "      <td>40.54</td>\n",
       "      <td>37.64</td>\n",
       "      <td>0.88</td>\n",
       "      <td>0.90</td>\n",
       "      <td>0.84</td>\n",
       "    </tr>\n",
       "    <tr>\n",
       "      <th>min</th>\n",
       "      <td>75540000.00</td>\n",
       "      <td>18.25</td>\n",
       "      <td>16.43</td>\n",
       "      <td>1.00</td>\n",
       "      <td>1.00</td>\n",
       "      <td>0.00</td>\n",
       "    </tr>\n",
       "    <tr>\n",
       "      <th>25%</th>\n",
       "      <td>186294762.25</td>\n",
       "      <td>38.00</td>\n",
       "      <td>32.59</td>\n",
       "      <td>1.00</td>\n",
       "      <td>1.00</td>\n",
       "      <td>0.00</td>\n",
       "    </tr>\n",
       "    <tr>\n",
       "      <th>50%</th>\n",
       "      <td>350480000.00</td>\n",
       "      <td>55.12</td>\n",
       "      <td>48.49</td>\n",
       "      <td>2.00</td>\n",
       "      <td>2.00</td>\n",
       "      <td>0.00</td>\n",
       "    </tr>\n",
       "    <tr>\n",
       "      <th>75%</th>\n",
       "      <td>552838770.00</td>\n",
       "      <td>79.30</td>\n",
       "      <td>70.93</td>\n",
       "      <td>3.00</td>\n",
       "      <td>2.00</td>\n",
       "      <td>1.00</td>\n",
       "    </tr>\n",
       "    <tr>\n",
       "      <th>max</th>\n",
       "      <td>3997794000.00</td>\n",
       "      <td>363.27</td>\n",
       "      <td>332.43</td>\n",
       "      <td>4.00</td>\n",
       "      <td>5.00</td>\n",
       "      <td>4.00</td>\n",
       "    </tr>\n",
       "  </tbody>\n",
       "</table>\n",
       "</div>"
      ],
      "text/plain": [
       "              price  built_area  private_area  bedrooms  bathrooms  \\\n",
       "count        614.00      614.00        606.00    614.00     614.00   \n",
       "mean   456043496.09       65.00         57.91      2.02       1.86   \n",
       "std    408029186.96       40.54         37.64      0.88       0.90   \n",
       "min     75540000.00       18.25         16.43      1.00       1.00   \n",
       "25%    186294762.25       38.00         32.59      1.00       1.00   \n",
       "50%    350480000.00       55.12         48.49      2.00       2.00   \n",
       "75%    552838770.00       79.30         70.93      3.00       2.00   \n",
       "max   3997794000.00      363.27        332.43      4.00       5.00   \n",
       "\n",
       "       parking_slots  \n",
       "count         614.00  \n",
       "mean            0.65  \n",
       "std             0.84  \n",
       "min             0.00  \n",
       "25%             0.00  \n",
       "50%             0.00  \n",
       "75%             1.00  \n",
       "max             4.00  "
      ]
     },
     "execution_count": 24,
     "metadata": {},
     "output_type": "execute_result"
    }
   ],
   "source": [
    "projects.describe()"
   ]
  },
  {
   "cell_type": "markdown",
   "metadata": {},
   "source": [
    "Analizando el *promedio* y la *mediana* de la columna **price** nos damos cuenta\n",
    "que existe una gran diferencia entre los dos. El promedio es mucho más alto\n",
    "que la mediana.\n",
    "\n",
    "\n",
    "Esto nos indica que la presencia de outliers está tirando del promedio hacia\n",
    "la derecha. Probablemente estamos ante la presencia de una distribución claramente\n",
    "inclinada hacia la derecha.\n",
    "\n",
    "\n",
    "Por tal motivo, en este proyecto escogeremos la *mediana* como medida de tendencia\n",
    "central para trabajar."
   ]
  },
  {
   "cell_type": "markdown",
   "metadata": {},
   "source": [
    "# 3. Distribución de los datos."
   ]
  },
  {
   "cell_type": "code",
   "execution_count": 25,
   "metadata": {},
   "outputs": [
    {
     "data": {
      "image/png": "[encoded data removed]",
      "text/plain": [
       "<Figure size 432x288 with 1 Axes>"
      ]
     },
     "metadata": {
      "needs_background": "light"
     },
     "output_type": "display_data"
    }
   ],
   "source": [
    "mean_price = projects[\"price\"].mean()\n",
    "median_price = projects[\"price\"].median()\n",
    "\n",
    "sns.histplot(data=projects, x=\"price\")\n",
    "plt.title(\"Distribución de los precios.\")\n",
    "plt.axvline(mean_price, c=\"r\")\n",
    "plt.axvline(median_price, c=\"g\")\n",
    "plt.xlabel(\"PRECIO\")\n",
    "plt.ylabel(\"CONTEO\")\n",
    "plt.legend([f\"promedio: {mean_price.round(2)}\", f\"mediana: {median_price.round(2)}\"])\n",
    "plt.show()"
   ]
  },
  {
   "cell_type": "markdown",
   "metadata": {},
   "source": [
    "### Interpretación:\n",
    "\n",
    "\n",
    "Se cumple la sospecha inicial. Estamos ante la presencia de una distribución inclinada hacia la derecha.\n",
    "\n",
    "\n",
    "La mayoría de los inmuebles se concentran alrededor de precios bajos con unos pocos outliers que tiran\n",
    "del promedio hacia la derecha."
   ]
  },
  {
   "cell_type": "code",
   "execution_count": 26,
   "metadata": {},
   "outputs": [
    {
     "data": {
      "image/png": "[encoded data removed]",
      "text/plain": [
       "<Figure size 432x288 with 1 Axes>"
      ]
     },
     "metadata": {
      "needs_background": "light"
     },
     "output_type": "display_data"
    }
   ],
   "source": [
    "mean_area = projects[\"private_area\"].mean()\n",
    "median_area = projects[\"private_area\"].median()\n",
    "\n",
    "sns.histplot(data=projects, x=\"private_area\")\n",
    "plt.title(\"Distribución del área privada.\")\n",
    "plt.axvline(mean_area, c=\"r\")\n",
    "plt.axvline(median_area, c=\"g\")\n",
    "plt.xlabel(\"ÁREA PRIVADA\")\n",
    "plt.ylabel(\"CONTEO\")\n",
    "plt.legend([f\"promedio: {mean_area.round(2)}\", f\"mediana: {median_area.round(2)}\"])\n",
    "plt.show()"
   ]
  },
  {
   "cell_type": "markdown",
   "metadata": {},
   "source": [
    "### Interpretacion:\n",
    "\n",
    "La distribución del área privada de los inmuebles también muestra una inclinación hacia la derecha."
   ]
  },
  {
   "cell_type": "markdown",
   "metadata": {},
   "source": [
    "# 4. Correlación de los datos númericos."
   ]
  },
  {
   "cell_type": "code",
   "execution_count": 28,
   "metadata": {},
   "outputs": [
    {
     "data": {
      "text/html": [
       "<div>\n",
       "<style scoped>\n",
       "    .dataframe tbody tr th:only-of-type {\n",
       "        vertical-align: middle;\n",
       "    }\n",
       "\n",
       "    .dataframe tbody tr th {\n",
       "        vertical-align: top;\n",
       "    }\n",
       "\n",
       "    .dataframe thead th {\n",
       "        text-align: right;\n",
       "    }\n",
       "</style>\n",
       "<table border=\"1\" class=\"dataframe\">\n",
       "  <thead>\n",
       "    <tr style=\"text-align: right;\">\n",
       "      <th></th>\n",
       "      <th>price</th>\n",
       "      <th>built_area</th>\n",
       "      <th>private_area</th>\n",
       "      <th>bedrooms</th>\n",
       "      <th>bathrooms</th>\n",
       "      <th>parking_slots</th>\n",
       "    </tr>\n",
       "  </thead>\n",
       "  <tbody>\n",
       "    <tr>\n",
       "      <th>price</th>\n",
       "      <td>1.00</td>\n",
       "      <td>0.91</td>\n",
       "      <td>0.91</td>\n",
       "      <td>0.49</td>\n",
       "      <td>0.78</td>\n",
       "      <td>0.76</td>\n",
       "    </tr>\n",
       "    <tr>\n",
       "      <th>built_area</th>\n",
       "      <td>0.91</td>\n",
       "      <td>1.00</td>\n",
       "      <td>1.00</td>\n",
       "      <td>0.68</td>\n",
       "      <td>0.86</td>\n",
       "      <td>0.74</td>\n",
       "    </tr>\n",
       "    <tr>\n",
       "      <th>private_area</th>\n",
       "      <td>0.91</td>\n",
       "      <td>1.00</td>\n",
       "      <td>1.00</td>\n",
       "      <td>0.67</td>\n",
       "      <td>0.86</td>\n",
       "      <td>0.74</td>\n",
       "    </tr>\n",
       "    <tr>\n",
       "      <th>bedrooms</th>\n",
       "      <td>0.49</td>\n",
       "      <td>0.68</td>\n",
       "      <td>0.67</td>\n",
       "      <td>1.00</td>\n",
       "      <td>0.68</td>\n",
       "      <td>0.50</td>\n",
       "    </tr>\n",
       "    <tr>\n",
       "      <th>bathrooms</th>\n",
       "      <td>0.78</td>\n",
       "      <td>0.86</td>\n",
       "      <td>0.86</td>\n",
       "      <td>0.68</td>\n",
       "      <td>1.00</td>\n",
       "      <td>0.74</td>\n",
       "    </tr>\n",
       "    <tr>\n",
       "      <th>parking_slots</th>\n",
       "      <td>0.76</td>\n",
       "      <td>0.74</td>\n",
       "      <td>0.74</td>\n",
       "      <td>0.50</td>\n",
       "      <td>0.74</td>\n",
       "      <td>1.00</td>\n",
       "    </tr>\n",
       "  </tbody>\n",
       "</table>\n",
       "</div>"
      ],
      "text/plain": [
       "               price  built_area  private_area  bedrooms  bathrooms  \\\n",
       "price           1.00        0.91          0.91      0.49       0.78   \n",
       "built_area      0.91        1.00          1.00      0.68       0.86   \n",
       "private_area    0.91        1.00          1.00      0.67       0.86   \n",
       "bedrooms        0.49        0.68          0.67      1.00       0.68   \n",
       "bathrooms       0.78        0.86          0.86      0.68       1.00   \n",
       "parking_slots   0.76        0.74          0.74      0.50       0.74   \n",
       "\n",
       "               parking_slots  \n",
       "price                   0.76  \n",
       "built_area              0.74  \n",
       "private_area            0.74  \n",
       "bedrooms                0.50  \n",
       "bathrooms               0.74  \n",
       "parking_slots           1.00  "
      ]
     },
     "execution_count": 28,
     "metadata": {},
     "output_type": "execute_result"
    }
   ],
   "source": [
    "correlation = projects.corr()\n",
    "correlation"
   ]
  },
  {
   "cell_type": "markdown",
   "metadata": {},
   "source": [
    "Exploremos la correlación que existe entre las distintas variables numéricas usando un **heatmap**."
   ]
  },
  {
   "cell_type": "code",
   "execution_count": 30,
   "metadata": {},
   "outputs": [
    {
     "data": {
      "image/png": "[encoded data removed]",
      "text/plain": [
       "<Figure size 432x288 with 2 Axes>"
      ]
     },
     "metadata": {
      "needs_background": "light"
     },
     "output_type": "display_data"
    }
   ],
   "source": [
    "sns.heatmap(correlation, vmin=-1,annot=True)\n",
    "plt.show()"
   ]
  },
  {
   "cell_type": "markdown",
   "metadata": {},
   "source": [
    "### Interpretación:\n",
    "\n",
    "La columna **built_area** y **private_area** poseen una correlación perfecta entre ellas.\n",
    "\n",
    "Al no aportar información adicional, a partir de ahora solo tomaremos en cuenta **private_area**.\n",
    "\n",
    "La columna **private_area** y **price** poseen una alta correlación entre ellas.\n",
    "\n",
    "A pesar de lo que se pudiera esperar la columna **bedrooms** no se relaciona fuertemente con **price**."
   ]
  },
  {
   "cell_type": "code",
   "execution_count": 31,
   "metadata": {},
   "outputs": [
    {
     "data": {
      "image/png": "[encoded data removed]",
      "text/plain": [
       "<Figure size 432x432 with 3 Axes>"
      ]
     },
     "metadata": {
      "needs_background": "light"
     },
     "output_type": "display_data"
    }
   ],
   "source": [
    "sns.jointplot(data=projects, x=\"private_area\", y=\"price\")\n",
    "plt.show()"
   ]
  },
  {
   "cell_type": "code",
   "execution_count": null,
   "metadata": {},
   "outputs": [],
   "source": []
  }
 ],
 "metadata": {
  "interpreter": {
   "hash": "41e248ee67a3888c77056bbc885e67d04e1ba67230dbef250c0ead0455c4cae1"
  },
  "kernelspec": {
   "display_name": "Python 3.9.6 ('real_estate_analysis-QkqfSqjg')",
   "language": "python",
   "name": "python3"
  },
  "language_info": {
   "codemirror_mode": {
    "name": "ipython",
    "version": 3
   },
   "file_extension": ".py",
   "mimetype": "text/x-python",
   "name": "python",
   "nbconvert_exporter": "python",
   "pygments_lexer": "ipython3",
   "version": "3.9.6"
  },
  "orig_nbformat": 4
 },
 "nbformat": 4,
 "nbformat_minor": 2
}
